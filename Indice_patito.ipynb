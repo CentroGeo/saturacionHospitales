{
 "cells": [
  {
   "cell_type": "code",
   "execution_count": 3,
   "metadata": {},
   "outputs": [],
   "source": [
    "import numpy as np\n",
    "import pandas as pd\n",
    "from scipy.integrate import solve_ivp\n",
    "from scipy.optimize import minimize\n",
    "import matplotlib.pyplot as plt\n",
    "from datetime import timedelta, datetime"
   ]
  },
  {
   "cell_type": "markdown",
   "metadata": {},
   "source": [
    "En el siguiente notebook se da una explicación de como se calcula el índice de presión hospitalaria. \n",
    "\n",
    "Para cada hospital tomamos las regiones de los cuales son \"*responsables*\", la división de estas regiones se determina por una división administrativa que se encuentra fija.  Esta división implica que si tenemos un enfermo dentro de una región asignada al hospital $H_0$, el enfermo será atendido en el hospital $H_0$. La intención del índice  es tener una aproximación del estrés generado por una enfermedad  sobre los recursos propios del hospital.\n",
    "\n",
    "La información con la que contamos y sobre la cual se desarrolla el índice es la siguiente. \n",
    "\n",
    "La población total $N$ asignada al hospital, si el hospital atiende a $l$ regiones entonces $N= N_0, N_1, \\dots N_l $. Se $S$ la población susceptible a la enfermedad la cual es un porcentaje la población total, este porcentaje puede variar dependiendo de la enfermedad y los rangos de edad de la población, para el siguiente ejercicio vamos a suponer que la enfermedad es un porcentaje fijo de la población total $ S = \\alpha_s N$ donde $\\alpha \\in ( 0, 1]$. \n",
    "\n",
    "\n",
    "A partir de un modelos modelo *SIR* vamos apróximar el número de camas que se necesitarán    \n"
   ]
  },
  {
   "cell_type": "code",
   "execution_count": 5,
   "metadata": {},
   "outputs": [],
   "source": [
    "N = 100000\n",
    "alpha_s = .98\n",
    "S_i = alpha_s*N"
   ]
  },
  {
   "cell_type": "markdown",
   "metadata": {},
   "source": [
    "A partir de un modelo *SIR* (suceptible, infected, recover) podemos hacer un cálculo aproximado de el número de individuos que se encuentren enfermos (infectados) en cada  día a partir de la primera infección enfermedad. Para el cálculo del modelo *SIR* es necesario saber la taza de contagio, la taza de recuperación. En este ejercicio utilicemos los datos mundiales del covid-19 para la aproximación de la taza de contagio en el caso de México."
   ]
  },
  {
   "cell_type": "markdown",
   "metadata": {},
   "source": [
    "\n",
    "Para la taza de recuperación tomemos el tiempo de recuperación de la enfermedad o el tiempo que es infeccioso el infectado, para este caso tomemos un periode de recuperación de 42 días. dando una taza de recuperación de $\\frac{1}{42}$ \n",
    "\n",
    "## Aplicación del modelo SIR\n",
    "\n",
    "\n",
    "Apliquemos el modelo primero para el caso de *exponential grow* "
   ]
  },
  {
   "cell_type": "code",
   "execution_count": 7,
   "metadata": {},
   "outputs": [],
   "source": [
    "START_DATE = {\n",
    "  'Japan': '1/22/20',\n",
    "  'Italy': '1/31/20',\n",
    "  'Republic of Korea': '1/22/20',\n",
    "  'Iran (Islamic Republic of)': '2/19/20'\n",
    "}\n",
    "\n",
    "class Learner(object):\n",
    "    def __init__(self, country, loss):\n",
    "        self.country = country\n",
    "        self.loss = loss\n",
    "\n",
    "    def load_confirmed(self, country):\n",
    "      \"\"\"\n",
    "      Load confirmed cases downloaded from HDX\n",
    "      \"\"\"\n",
    "      df = pd.read_csv('data/time_series_19-covid-Confirmed.csv')\n",
    "      country_df = df[df['Country/Region'] == country]\n",
    "      return country_df.iloc[0].loc[START_DATE[country]:]\n",
    "\n",
    "    def extend_index(self, index, new_size):\n",
    "        values = index.values\n",
    "        current = datetime.strptime(index[-1], '%m/%d/%y')\n",
    "        while len(values) < new_size:\n",
    "            current = current + timedelta(days=1)\n",
    "            values = np.append(values, datetime.strftime(current, '%m/%d/%y'))\n",
    "        return values\n",
    "\n",
    "    def predict(self, beta, gamma, data):\n",
    "        \"\"\"\n",
    "        Predict how the number of people in each compartment can be changed through time toward the future.\n",
    "        The model is formulated with the given beta and gamma.\n",
    "        \"\"\"\n",
    "        predict_range = 150\n",
    "        new_index = self.extend_index(data.index, predict_range)\n",
    "        size = len(new_index)\n",
    "        def SIR(t, y):\n",
    "            S = y[0]\n",
    "            I = y[1]\n",
    "            R = y[2]\n",
    "            return [-beta*S*I, beta*S*I-gamma*I, gamma*I]\n",
    "        extended_actual = np.concatenate((data.values, [None] * (size - len(data.values))))\n",
    "        return new_index, extended_actual, solve_ivp(SIR, [0, size], [S_0,I_0,R_0], t_eval=np.arange(0, size, 1))\n",
    "\n",
    "    def train(self):\n",
    "        \"\"\"\n",
    "        Run the optimization to estimate the beta and gamma fitting the given confirmed cases.\n",
    "        \"\"\"\n",
    "        data = self.load_confirmed(self.country)\n",
    "        optimal = minimize(\n",
    "            loss,\n",
    "            [0.001, 0.001],\n",
    "            args=(data),\n",
    "            method='L-BFGS-B',\n",
    "            bounds=[(0.00000001, 0.4), (0.00000001, 0.4)]\n",
    "        )\n",
    "        beta, gamma = optimal.x\n",
    "        new_index, extended_actual, prediction = self.predict(beta, gamma, data)\n",
    "        df = pd.DataFrame({\n",
    "            'Actual': extended_actual,\n",
    "            'S': prediction.y[0],\n",
    "            'I': prediction.y[1],\n",
    "            'R': prediction.y[2]\n",
    "        }, index=new_index)\n",
    "        fig, ax = plt.subplots(figsize=(15, 10))\n",
    "        ax.set_title(self.country)\n",
    "        df.plot(ax=ax)\n",
    "        fig.savefig(f\"{self.country}.png\")"
   ]
  },
  {
   "cell_type": "code",
   "execution_count": 8,
   "metadata": {},
   "outputs": [],
   "source": [
    "def loss(point, data):\n",
    "    \"\"\"\n",
    "    RMSE between actual confirmed cases and the estimated infectious people with given beta and gamma.\n",
    "    \"\"\"\n",
    "    size = len(data)\n",
    "    beta, gamma = point\n",
    "    def SIR(t, y):\n",
    "        S = y[0]\n",
    "        I = y[1]\n",
    "        R = y[2]\n",
    "        return [-beta*S*I, beta*S*I-gamma*I, gamma*I]\n",
    "    solution = solve_ivp(SIR, [0, size], [S_0,I_0,R_0], t_eval=np.arange(0, size, 1), vectorized=True)\n",
    "    return np.sqrt(np.mean((solution.y[1] - data)**2))\n"
   ]
  },
  {
   "cell_type": "code",
   "execution_count": 9,
   "metadata": {},
   "outputs": [],
   "source": [
    "def loss(point, data, recovered):\n",
    "    size = len(data)\n",
    "    beta, gamma = point\n",
    "    def SIR(t, y):\n",
    "        S = y[0]\n",
    "        I = y[1]\n",
    "        R = y[2]\n",
    "        return [-beta*S*I, beta*S*I-gamma*I, gamma*I]\n",
    "    solution = solve_ivp(SIR, [0, size], [S_0,I_0,R_0], t_eval=np.arange(0, size, 1), vectorized=True)\n",
    "    l1 = np.sqrt(np.mean((solution.y[1] - data)**2))\n",
    "    l2 = np.sqrt(np.mean((solution.y[2] - recovered)**2))\n",
    "    # Put more emphasis on recovered people\n",
    "    alpha = 0.1\n",
    "    return alpha * l1 + (1 - alpha) * l2"
   ]
  },
  {
   "cell_type": "code",
   "execution_count": 85,
   "metadata": {},
   "outputs": [],
   "source": [
    "def get_data(country_s= 'Mexico'):\n",
    "\n",
    "    #### Get the data \n",
    "    ff  = \"https://raw.githubusercontent.com/CSSEGISandData/COVID-19/master\"\n",
    "    ff  = ff + \"/csse_covid_19_data/csse_covid_19_time_series/\"\n",
    "    ff  = ff + \"time_series_covid19_confirmed_global.csv\"\n",
    "    #df_dat = pd.read_csv(ff, header=TRUE ,sep=\",\")\n",
    "    \n",
    "\n",
    "\n",
    "    #remove_province('data/time_series_19-covid-Confirmed.csv', 'data/time_series_19-covid-Confirmed-country.csv')\n",
    "    #remove_province('data/time_series_19-covid-Recovered.csv', 'data/time_series_19-covid-Recovered-country.csv')\n",
    "    #remove_province('data/time_series_19-covid-Deaths.csv', 'data/time_series_19-covid-Deaths-country.csv')\n",
    "    df_dat = pd.read_csv(ff,header=0, sep = \",\")\n",
    "    df_dat.drop(columns=['Province/State'], inplace= True)\n",
    "    country = df_dat[df_dat['Country/Region']==country_s]\n",
    "     \n",
    "    \n",
    "    col_ra=[]\n",
    "    \n",
    "    for col in country.columns:\n",
    "        #print(col)\n",
    "        if country[col].values[0] != 0:\n",
    "            col_ra.append(col)\n",
    "    col_ra.remove('Country/Region')\n",
    "    col_ra.remove( 'Lat')\n",
    "    col_ra.remove('Long')\n",
    "    \n",
    "    case = country[col_ra].values.tolist()[0]\n",
    "    new_cases= [x[0]-x[1] for x in zip(case[1:]  ,case[:len(case)-1])]\n",
    "    return (country, case, new_cases)"
   ]
  },
  {
   "cell_type": "code",
   "execution_count": 88,
   "metadata": {},
   "outputs": [],
   "source": [
    "contry , cases, new_cases  =get_data()"
   ]
  },
  {
   "cell_type": "code",
   "execution_count": 98,
   "metadata": {},
   "outputs": [],
   "source": [
    "def loss(beta_i, gamma_i, data, recovered, s_0, i_0, r_0):\n",
    "    size = len(data)\n",
    "    beta= beta_i\n",
    "    gamma = gamma_i\n",
    "    def SIR(t, y):\n",
    "        S = y[0]\n",
    "        I = y[1]\n",
    "        R = y[2]\n",
    "        return [-beta*S*I, beta*S*I-gamma*I, gamma*I]\n",
    "    solution = solve_ivp(SIR, [0, size], [s_0,i_0,r_0], t_eval=np.arange(0, size, 1), vectorized=True)\n",
    "    l1 = np.sqrt(np.mean((solution.y[1] - data)**2))\n",
    "    l2 = np.sqrt(np.mean((solution.y[2] - recovered)**2))\n",
    "    alpha = 0.1\n",
    "    return alpha * l1 + (1 - alpha) * l2"
   ]
  },
  {
   "cell_type": "code",
   "execution_count": 100,
   "metadata": {},
   "outputs": [],
   "source": [
    "\n",
    "def train(s_0=100000, i_0=1, r_0=0):\n",
    "    #recovered = load_recovered(country)\n",
    "    #death = self.load_dead(self.country)\n",
    "    data = (self.load_confirmed(self.country) - recovered - death)\n",
    "    optimal = minimize(loss, [0.001, 0.001], args=(data, recovered, s_0, i_0, r_0), method='L-BFGS-B', bounds=[(0.00000001, 0.6), (0.00000001, 0.6)])\n",
    "    print(optimal)\n",
    "    beta, gamma = optimal.x\n",
    "    new_index, extended_actual, extended_recovered, extended_death, prediction = self.predict(beta, gamma, data, recovered, death, self.country, self.s_0, self.i_0, self.r_0)\n",
    "    df = pd.DataFrame({'Infected data': extended_actual, 'Recovered data': extended_recovered, 'Death data': extended_death, 'Susceptible': prediction.y[0], 'Infected': prediction.y[1], 'Recovered': prediction.y[2]}, index=new_index)\n",
    "    fig, ax = plt.subplots(figsize=(15, 10))\n",
    "    ax.set_title(self.country)\n",
    "    df.plot(ax=ax)\n",
    "    print(f\"country={self.country}, beta={beta:.8f}, gamma={gamma:.8f}, r_0:{(beta/gamma):.8f}\")\n",
    "    fig.savefig(f\"{self.country}.png\")"
   ]
  },
  {
   "cell_type": "code",
   "execution_count": null,
   "metadata": {},
   "outputs": [],
   "source": []
  },
  {
   "cell_type": "code",
   "execution_count": 94,
   "metadata": {},
   "outputs": [],
   "source": [
    "s_0 = 5000\n",
    "i_0 =  1\n",
    "r_0 = 0"
   ]
  },
  {
   "cell_type": "code",
   "execution_count": 99,
   "metadata": {},
   "outputs": [
    {
     "ename": "NameError",
     "evalue": "name 'recovered' is not defined",
     "output_type": "error",
     "traceback": [
      "\u001b[0;31m---------------------------------------------------------------------------\u001b[0m",
      "\u001b[0;31mNameError\u001b[0m                                 Traceback (most recent call last)",
      "\u001b[0;32m<ipython-input-99-2e299ff4660c>\u001b[0m in \u001b[0;36m<module>\u001b[0;34m\u001b[0m\n\u001b[0;32m----> 1\u001b[0;31m \u001b[0moptimal\u001b[0m \u001b[0;34m=\u001b[0m \u001b[0mminimize\u001b[0m\u001b[0;34m(\u001b[0m\u001b[0mloss\u001b[0m\u001b[0;34m,\u001b[0m \u001b[0;34m[\u001b[0m\u001b[0;36m0.001\u001b[0m\u001b[0;34m,\u001b[0m \u001b[0;36m0.001\u001b[0m\u001b[0;34m]\u001b[0m\u001b[0;34m,\u001b[0m \u001b[0margs\u001b[0m\u001b[0;34m=\u001b[0m\u001b[0;34m(\u001b[0m\u001b[0mcases\u001b[0m\u001b[0;34m,\u001b[0m \u001b[0mrecovered\u001b[0m\u001b[0;34m,\u001b[0m \u001b[0ms_0\u001b[0m\u001b[0;34m,\u001b[0m \u001b[0mi_0\u001b[0m\u001b[0;34m,\u001b[0m \u001b[0mr_0\u001b[0m\u001b[0;34m)\u001b[0m\u001b[0;34m,\u001b[0m \u001b[0mmethod\u001b[0m\u001b[0;34m=\u001b[0m\u001b[0;34m'L-BFGS-B'\u001b[0m\u001b[0;34m,\u001b[0m \u001b[0mbounds\u001b[0m\u001b[0;34m=\u001b[0m\u001b[0;34m[\u001b[0m\u001b[0;34m(\u001b[0m\u001b[0;36m0.00000001\u001b[0m\u001b[0;34m,\u001b[0m \u001b[0;36m0.6\u001b[0m\u001b[0;34m)\u001b[0m\u001b[0;34m,\u001b[0m \u001b[0;34m(\u001b[0m\u001b[0;36m0.00000001\u001b[0m\u001b[0;34m,\u001b[0m \u001b[0;36m0.6\u001b[0m\u001b[0;34m)\u001b[0m\u001b[0;34m]\u001b[0m\u001b[0;34m)\u001b[0m\u001b[0;34m\u001b[0m\u001b[0;34m\u001b[0m\u001b[0m\n\u001b[0m",
      "\u001b[0;31mNameError\u001b[0m: name 'recovered' is not defined"
     ]
    }
   ],
   "source": [
    "optimal = minimize(loss, [0.001, 0.001], args=(cases, recovered, s_0, i_0, r_0), method='L-BFGS-B', bounds=[(0.00000001, 0.6), (0.00000001, 0.6)])"
   ]
  },
  {
   "cell_type": "markdown",
   "metadata": {},
   "source": [
    "La siguiente función emula el comportamiento de la pandemia a un nivel local utilizando aproximaciones obtenidas a nivel pais (Mexico) de "
   ]
  },
  {
   "cell_type": "code",
   "execution_count": 117,
   "metadata": {},
   "outputs": [],
   "source": [
    "\n",
    "### Con estos valores vamos a resolver nuestro caso \n",
    "###### beta=0.00000085, gamma=0.00000001, r_0:85.16670412\n",
    "\n",
    "def SIR_compute(S_0= 100000, I_0= 1, R_0=0 , beta=0.00000085 ,gamma=0.00000001, time=100):\n",
    "    def SIR(t, y):\n",
    "        S = y[0]\n",
    "        I = y[1]\n",
    "        R = y[2]\n",
    "        return [-beta*S*I, beta*S*I-gamma*I, gamma*I]\n",
    "    size = time\n",
    "    solution = solve_ivp(SIR, [0, size] , [S_0,I_0,R_0], t_eval=np.arange(0, size, 1), vectorized=True)\n",
    "    return solution"
   ]
  },
  {
   "cell_type": "markdown",
   "metadata": {},
   "source": [
    "Utilizando la función podemos hacer una aproximación del comportamiento esperado a nivel local en un intervalo de tiempo de 250 días"
   ]
  },
  {
   "cell_type": "code",
   "execution_count": 255,
   "metadata": {},
   "outputs": [],
   "source": [
    "comu=SIR_compute(time = 250)"
   ]
  },
  {
   "cell_type": "markdown",
   "metadata": {},
   "source": [
    "grafiquemos los resultados obtenidos"
   ]
  },
  {
   "cell_type": "code",
   "execution_count": 256,
   "metadata": {},
   "outputs": [
    {
     "data": {
      "image/png": "[encoded data removed]",
      "text/plain": [
       "<Figure size 432x288 with 3 Axes>"
      ]
     },
     "metadata": {
      "needs_background": "light"
     },
     "output_type": "display_data"
    }
   ],
   "source": [
    "fig , ax=plt.subplots()\n",
    "#ax=fig.add_subplot(111,label='Suceptibles')\n",
    "#ax2=fig.add_subplot(111,label='Infectados')\n",
    "#ax3=fig.add_subplot(111,label='Recuperados')\n",
    "ax.plot(comu['t'], comu['y'][0],color=\"red\", marker=\"o\")\n",
    "ax2=ax.twinx()\n",
    "ax2.plot(comu['t'], comu['y'][1], color=\"green\", marker=\"+\")\n",
    "ax3=ax2.twinx()\n",
    "ax3.plot(comu['t'], comu['y'][2], color=\"blue\", marker=\"x\")\n",
    "plt.show()"
   ]
  },
  {
   "cell_type": "markdown",
   "metadata": {},
   "source": [
    "Como se observa el comportamiento de infectados (verde) y los suceptibles es el esperado, pero en el casos de los individuos recuperados se observa que no es de la forma esperada. Esto se debe a que los valores para ajustar dichas curvas corresponden a poblaciones distintas. Si se gráfica se observa el error de esta forma de modelado. "
   ]
  },
  {
   "cell_type": "code",
   "execution_count": 257,
   "metadata": {},
   "outputs": [
    {
     "data": {
      "image/png": "[encoded data removed]",
      "text/plain": [
       "<Figure size 432x288 with 1 Axes>"
      ]
     },
     "metadata": {
      "needs_background": "light"
     },
     "output_type": "display_data"
    }
   ],
   "source": [
    "plt.plot(comu['t'], comu['y'][2], color=\"blue\", marker=\"x\")\n",
    "plt.show()"
   ]
  },
  {
   "cell_type": "markdown",
   "metadata": {},
   "source": [
    "Los recuperados esta mal aproximados es decir que la taza que tomamos para su recuperación es la que esta mal. Como los valores de el número de infectados son similares vamos a dejarl la aproximación de infectados así. Vamos a tomar a los infectados y esperar a que se recuperen (recuperados y muertos), estos serán los que tomamos como recuperados el factor de recuperación lo tomamos como $42$ días. \n"
   ]
  },
  {
   "cell_type": "code",
   "execution_count": 313,
   "metadata": {},
   "outputs": [
    {
     "data": {
      "image/png": "[encoded data removed]",
      "text/plain": [
       "<Figure size 432x288 with 2 Axes>"
      ]
     },
     "metadata": {
      "needs_background": "light"
     },
     "output_type": "display_data"
    }
   ],
   "source": [
    "\n",
    "fig , ax=plt.subplots()\n",
    "#ax=fig.add_subplot(111,label='Suceptibles')\n",
    "#ax2=fig.add_subplot(111,label='Infectados')\n",
    "#ax3=fig.add_subplot(111,label='Recuperados')\n",
    "ax.plot(comu['t'], comu['y'][1], color=\"green\", marker=\"+\")\n",
    "ax2=ax.twinx()\n",
    "rep= np.repeat(0, 43) \n",
    "rec_de = np.concatenate((rep, comu['y'][1][1:len(comu['y'][1])-42]))\n",
    "ax2.plot(comu['t'], rec_de)\n",
    "plt.show()\n"
   ]
  },
  {
   "cell_type": "markdown",
   "metadata": {},
   "source": [
    "En el siguiente escenario el hospital tiene $200$ camas, donde el $16\\%$ de los infectados necesitaran camas. Obtenemos un aproximado de las camas necesarias en cada tiempo. "
   ]
  },
  {
   "cell_type": "code",
   "execution_count": 290,
   "metadata": {},
   "outputs": [],
   "source": [
    "camas_total=200\n",
    "#gamma=0.00000001\n",
    "camas_nec_nue = 0.16*(comu['y'][1][1:]-comu['y'][1][:len(comu['y'][1])-1] )\n",
    "camas_de_rec =  0.16*( comu['y'][1][1:len(comu['y'][1])-42]- comu['y'][1][:len(comu['y'][1])-42-1] )"
   ]
  },
  {
   "cell_type": "markdown",
   "metadata": {},
   "source": [
    "Las camas que se liberan a partir de los recuperados en cada tiempo."
   ]
  },
  {
   "cell_type": "code",
   "execution_count": 291,
   "metadata": {},
   "outputs": [
    {
     "data": {
      "text/plain": [
       "249"
      ]
     },
     "execution_count": 291,
     "metadata": {},
     "output_type": "execute_result"
    }
   ],
   "source": [
    "rep=np.repeat(0,42)\n",
    "camas_de_rec=np.concatenate(( rep, camas_de_rec))\n",
    "len(camas_de_rec)"
   ]
  },
  {
   "cell_type": "code",
   "execution_count": 292,
   "metadata": {},
   "outputs": [
    {
     "data": {
      "text/plain": [
       "249"
      ]
     },
     "execution_count": 292,
     "metadata": {},
     "output_type": "execute_result"
    },
    {
     "data": {
      "image/png": "[encoded data removed]",
      "text/plain": [
       "<Figure size 432x288 with 1 Axes>"
      ]
     },
     "metadata": {
      "needs_background": "light"
     },
     "output_type": "display_data"
    }
   ],
   "source": [
    "plt.plot(camas_de_rec)\n",
    "len(camas_de_rec)"
   ]
  },
  {
   "cell_type": "markdown",
   "metadata": {},
   "source": [
    "Las camas necesarias sin contar las liberadas es la suma acumulada en cada instante. "
   ]
  },
  {
   "cell_type": "code",
   "execution_count": 331,
   "metadata": {},
   "outputs": [],
   "source": [
    "camas_nec= np.cumsum(camas_nec_nue)"
   ]
  },
  {
   "cell_type": "markdown",
   "metadata": {},
   "source": [
    "La demanda de camas queda de la siguiente forma"
   ]
  },
  {
   "cell_type": "code",
   "execution_count": 334,
   "metadata": {},
   "outputs": [
    {
     "data": {
      "text/plain": [
       "[<matplotlib.lines.Line2D at 0x7f796d10e340>]"
      ]
     },
     "execution_count": 334,
     "metadata": {},
     "output_type": "execute_result"
    },
    {
     "data": {
      "image/png": "[encoded data removed]",
      "text/plain": [
       "<Figure size 432x288 with 1 Axes>"
      ]
     },
     "metadata": {
      "needs_background": "light"
     },
     "output_type": "display_data"
    }
   ],
   "source": [
    "plt.plot(( camas_nec_nue - camas_de_rec ))"
   ]
  },
  {
   "cell_type": "code",
   "execution_count": 336,
   "metadata": {},
   "outputs": [],
   "source": [
    "camas_dem = camas_nec_nue - camas_de_rec"
   ]
  },
  {
   "cell_type": "code",
   "execution_count": 337,
   "metadata": {},
   "outputs": [
    {
     "data": {
      "text/plain": [
       "[<matplotlib.lines.Line2D at 0x7f796d12fd60>]"
      ]
     },
     "execution_count": 337,
     "metadata": {},
     "output_type": "execute_result"
    },
    {
     "data": {
      "image/png": "[encoded data removed]",
      "text/plain": [
       "<Figure size 432x288 with 1 Axes>"
      ]
     },
     "metadata": {
      "needs_background": "light"
     },
     "output_type": "display_data"
    }
   ],
   "source": [
    "plt.plot(np.cumsum(camas_dem ) )"
   ]
  },
  {
   "cell_type": "markdown",
   "metadata": {},
   "source": [
    "El índice nos da que tan estresada se encuentra la infrestructura hospitalaría en cada tiempo. Entre más cercano a $0$ la infrestructura sera menor"
   ]
  },
  {
   "cell_type": "code",
   "execution_count": 338,
   "metadata": {},
   "outputs": [
    {
     "data": {
      "text/plain": [
       "<BarContainer object of 249 artists>"
      ]
     },
     "execution_count": 338,
     "metadata": {},
     "output_type": "execute_result"
    },
    {
     "data": {
      "image/png": "[encoded data removed]",
      "text/plain": [
       "<Figure size 432x288 with 1 Axes>"
      ]
     },
     "metadata": {
      "needs_background": "light"
     },
     "output_type": "display_data"
    }
   ],
   "source": [
    "index_hos= (np.cumsum(camas_dem )- camas_total)/200\n",
    "plt.bar(comu['t'][:len(comu['t'])-1] ,index_hos)"
   ]
  },
  {
   "cell_type": "code",
   "execution_count": 346,
   "metadata": {},
   "outputs": [],
   "source": [
    "def indice_hosp(poblaciaon_hos=100000, \n",
    "                infectados_actuales=1,\n",
    "                recuperados=0,\n",
    "                beta=0.00000085,\n",
    "                gamma=0.00000001, \n",
    "                time=200,\n",
    "                camas_total=200,\n",
    "                por_hosp=0.16,\n",
    "                rec_time=42\n",
    "               ):\n",
    "    ### Calculamos la solución del sistema para este caso \n",
    "    \n",
    "    comu=SIR_compute(S_0= poblaciaon_hos, I_0= infectados_actuales, R_0=recuperados , beta=beta ,gamma=gamma, time=time)\n",
    "    camas_nec_nue = por_hosp*(comu['y'][1][1:]-comu['y'][1][:len(comu['y'][1])-1] )\n",
    "    camas_de_rec =  por_hosp*( comu['y'][1][1:len(comu['y'][1])-rec_time]- comu['y'][1][:len(comu['y'][1])-rec_time-1] )\n",
    "    rep=np.repeat(0,rec_time)\n",
    "    camas_de_rec=np.concatenate(( rep, camas_de_rec))\n",
    "    camas_nec= np.cumsum(camas_nec_nue)\n",
    "    camas_dem = camas_nec_nue - camas_de_rec\n",
    "    index_hos= (np.cumsum(camas_dem )- camas_total)/camas_total\n",
    "    return index_hos , comu"
   ]
  },
  {
   "cell_type": "code",
   "execution_count": 351,
   "metadata": {},
   "outputs": [
    {
     "data": {
      "text/plain": [
       "<BarContainer object of 199 artists>"
      ]
     },
     "execution_count": 351,
     "metadata": {},
     "output_type": "execute_result"
    },
    {
     "data": {
      "image/png": "[encoded data removed]",
      "text/plain": [
       "<Figure size 432x288 with 1 Axes>"
      ]
     },
     "metadata": {
      "needs_background": "light"
     },
     "output_type": "display_data"
    }
   ],
   "source": [
    "ind_ho , comu = indice_hosp()\n",
    "len(ind_ho)\n",
    "plt.bar(comu['t'][:len(comu['t'])-1],height=ind_ho)"
   ]
  },
  {
   "cell_type": "code",
   "execution_count": null,
   "metadata": {},
   "outputs": [],
   "source": []
  },
  {
   "cell_type": "code",
   "execution_count": null,
   "metadata": {},
   "outputs": [],
   "source": []
  },
  {
   "cell_type": "code",
   "execution_count": null,
   "metadata": {},
   "outputs": [],
   "source": []
  }
 ],
 "metadata": {
  "kernelspec": {
   "display_name": "Python 3",
   "language": "python",
   "name": "python3"
  },
  "language_info": {
   "codemirror_mode": {
    "name": "ipython",
    "version": 3
   },
   "file_extension": ".py",
   "mimetype": "text/x-python",
   "name": "python",
   "nbconvert_exporter": "python",
   "pygments_lexer": "ipython3",
   "version": "3.8.2"
  }
 },
 "nbformat": 4,
 "nbformat_minor": 4
}
