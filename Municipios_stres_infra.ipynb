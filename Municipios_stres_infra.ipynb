{
 "cells": [
  {
   "cell_type": "markdown",
   "metadata": {},
   "source": [
    "# Generación de los datos de enfermos covid19 \n",
    "El siguiente notebook sirve para dar un ejemplo de un sistema de saturación de infrestructura a partir de los datos de población afectada por el virus *Covid-19* .\n"
   ]
  },
  {
   "cell_type": "code",
   "execution_count": 1,
   "metadata": {},
   "outputs": [],
   "source": [
    "import pandas as pd \n",
    "import matplotlib.pyplot as plt\n",
    "from scipy.integrate import solve_ivp\n",
    "from scipy.optimize import minimize\n",
    "import numpy as np\n",
    "import covid_mun_cal\n"
   ]
  },
  {
   "cell_type": "markdown",
   "metadata": {},
   "source": [
    "Los datos que tenemos sobre los enfermos no son publicos, por lo tanto de dichos datos  se extraen las distribuciones y se cargan. "
   ]
  },
  {
   "cell_type": "markdown",
   "metadata": {},
   "source": [
    "Los datos cargados son: la distribución de los enfermos y el porcentage de los hospitalizados por rangos de edad"
   ]
  },
  {
   "cell_type": "code",
   "execution_count": 19,
   "metadata": {},
   "outputs": [
    {
     "data": {
      "text/html": [
       "<div>\n",
       "<style scoped>\n",
       "    .dataframe tbody tr th:only-of-type {\n",
       "        vertical-align: middle;\n",
       "    }\n",
       "\n",
       "    .dataframe tbody tr th {\n",
       "        vertical-align: top;\n",
       "    }\n",
       "\n",
       "    .dataframe thead th {\n",
       "        text-align: right;\n",
       "    }\n",
       "</style>\n",
       "<table border=\"1\" class=\"dataframe\">\n",
       "  <thead>\n",
       "    <tr style=\"text-align: right;\">\n",
       "      <th></th>\n",
       "      <th>0</th>\n",
       "    </tr>\n",
       "    <tr>\n",
       "      <th>RANGO</th>\n",
       "      <th></th>\n",
       "    </tr>\n",
       "  </thead>\n",
       "  <tbody>\n",
       "    <tr>\n",
       "      <th>pobm_00_04</th>\n",
       "      <td>NaN</td>\n",
       "    </tr>\n",
       "    <tr>\n",
       "      <th>pobm_05_09</th>\n",
       "      <td>0.000000</td>\n",
       "    </tr>\n",
       "    <tr>\n",
       "      <th>pobm_10_14</th>\n",
       "      <td>0.333333</td>\n",
       "    </tr>\n",
       "    <tr>\n",
       "      <th>pobm_15_19</th>\n",
       "      <td>0.000000</td>\n",
       "    </tr>\n",
       "    <tr>\n",
       "      <th>pobm_20_24</th>\n",
       "      <td>0.000000</td>\n",
       "    </tr>\n",
       "    <tr>\n",
       "      <th>pobm_25_29</th>\n",
       "      <td>0.035714</td>\n",
       "    </tr>\n",
       "    <tr>\n",
       "      <th>pobm_30_34</th>\n",
       "      <td>0.090909</td>\n",
       "    </tr>\n",
       "    <tr>\n",
       "      <th>pobm_35_39</th>\n",
       "      <td>0.160000</td>\n",
       "    </tr>\n",
       "    <tr>\n",
       "      <th>pobm_40_44</th>\n",
       "      <td>0.125000</td>\n",
       "    </tr>\n",
       "    <tr>\n",
       "      <th>pobm_45_49</th>\n",
       "      <td>0.250000</td>\n",
       "    </tr>\n",
       "    <tr>\n",
       "      <th>pobm_50_54</th>\n",
       "      <td>0.250000</td>\n",
       "    </tr>\n",
       "    <tr>\n",
       "      <th>pobm_55_59</th>\n",
       "      <td>0.437500</td>\n",
       "    </tr>\n",
       "    <tr>\n",
       "      <th>pobm_60_64</th>\n",
       "      <td>0.333333</td>\n",
       "    </tr>\n",
       "    <tr>\n",
       "      <th>pobm_65_mm</th>\n",
       "      <td>0.562500</td>\n",
       "    </tr>\n",
       "  </tbody>\n",
       "</table>\n",
       "</div>"
      ],
      "text/plain": [
       "                   0\n",
       "RANGO               \n",
       "pobm_00_04       NaN\n",
       "pobm_05_09  0.000000\n",
       "pobm_10_14  0.333333\n",
       "pobm_15_19  0.000000\n",
       "pobm_20_24  0.000000\n",
       "pobm_25_29  0.035714\n",
       "pobm_30_34  0.090909\n",
       "pobm_35_39  0.160000\n",
       "pobm_40_44  0.125000\n",
       "pobm_45_49  0.250000\n",
       "pobm_50_54  0.250000\n",
       "pobm_55_59  0.437500\n",
       "pobm_60_64  0.333333\n",
       "pobm_65_mm  0.562500"
      ]
     },
     "execution_count": 19,
     "metadata": {},
     "output_type": "execute_result"
    }
   ],
   "source": [
    "porcen_rangos_hosp= pd.read_csv('edad_enf_grav_dis.csv', index_col='RANGO')\n",
    "porcen_rangos_hosp"
   ]
  },
  {
   "cell_type": "code",
   "execution_count": 6,
   "metadata": {},
   "outputs": [
    {
     "data": {
      "text/html": [
       "<div>\n",
       "<style scoped>\n",
       "    .dataframe tbody tr th:only-of-type {\n",
       "        vertical-align: middle;\n",
       "    }\n",
       "\n",
       "    .dataframe tbody tr th {\n",
       "        vertical-align: top;\n",
       "    }\n",
       "\n",
       "    .dataframe thead th {\n",
       "        text-align: right;\n",
       "    }\n",
       "</style>\n",
       "<table border=\"1\" class=\"dataframe\">\n",
       "  <thead>\n",
       "    <tr style=\"text-align: right;\">\n",
       "      <th></th>\n",
       "      <th>0</th>\n",
       "    </tr>\n",
       "    <tr>\n",
       "      <th>RANGO</th>\n",
       "      <th></th>\n",
       "    </tr>\n",
       "  </thead>\n",
       "  <tbody>\n",
       "    <tr>\n",
       "      <th>pobm_00_04</th>\n",
       "      <td>0.000000</td>\n",
       "    </tr>\n",
       "    <tr>\n",
       "      <th>pobm_05_09</th>\n",
       "      <td>0.005181</td>\n",
       "    </tr>\n",
       "    <tr>\n",
       "      <th>pobm_10_14</th>\n",
       "      <td>0.015544</td>\n",
       "    </tr>\n",
       "    <tr>\n",
       "      <th>pobm_15_19</th>\n",
       "      <td>0.005181</td>\n",
       "    </tr>\n",
       "    <tr>\n",
       "      <th>pobm_20_24</th>\n",
       "      <td>0.046632</td>\n",
       "    </tr>\n",
       "    <tr>\n",
       "      <th>pobm_25_29</th>\n",
       "      <td>0.145078</td>\n",
       "    </tr>\n",
       "    <tr>\n",
       "      <th>pobm_30_34</th>\n",
       "      <td>0.170984</td>\n",
       "    </tr>\n",
       "    <tr>\n",
       "      <th>pobm_35_39</th>\n",
       "      <td>0.129534</td>\n",
       "    </tr>\n",
       "    <tr>\n",
       "      <th>pobm_40_44</th>\n",
       "      <td>0.082902</td>\n",
       "    </tr>\n",
       "    <tr>\n",
       "      <th>pobm_45_49</th>\n",
       "      <td>0.082902</td>\n",
       "    </tr>\n",
       "    <tr>\n",
       "      <th>pobm_50_54</th>\n",
       "      <td>0.103627</td>\n",
       "    </tr>\n",
       "    <tr>\n",
       "      <th>pobm_55_59</th>\n",
       "      <td>0.082902</td>\n",
       "    </tr>\n",
       "    <tr>\n",
       "      <th>pobm_60_64</th>\n",
       "      <td>0.046632</td>\n",
       "    </tr>\n",
       "    <tr>\n",
       "      <th>pobm_65_mm</th>\n",
       "      <td>0.082902</td>\n",
       "    </tr>\n",
       "  </tbody>\n",
       "</table>\n",
       "</div>"
      ],
      "text/plain": [
       "                   0\n",
       "RANGO               \n",
       "pobm_00_04  0.000000\n",
       "pobm_05_09  0.005181\n",
       "pobm_10_14  0.015544\n",
       "pobm_15_19  0.005181\n",
       "pobm_20_24  0.046632\n",
       "pobm_25_29  0.145078\n",
       "pobm_30_34  0.170984\n",
       "pobm_35_39  0.129534\n",
       "pobm_40_44  0.082902\n",
       "pobm_45_49  0.082902\n",
       "pobm_50_54  0.103627\n",
       "pobm_55_59  0.082902\n",
       "pobm_60_64  0.046632\n",
       "pobm_65_mm  0.082902"
      ]
     },
     "execution_count": 6,
     "metadata": {},
     "output_type": "execute_result"
    }
   ],
   "source": [
    "#por_cent_edad_dis_enf=ran_en_edad/ran_en_edad.sum()\n",
    "#por_cent_edad_dis_enf.reset_index().to_csv('edad_enf_por_dis.csv', index=False)\n",
    "por_cent_edad_dis_enf= pd.read_csv('edad_enf_por_dis.csv', index_col='RANGO')\n",
    "por_cent_edad_dis_enf"
   ]
  },
  {
   "cell_type": "code",
   "execution_count": 7,
   "metadata": {},
   "outputs": [
    {
     "data": {
      "text/plain": [
       "<matplotlib.axes._subplots.AxesSubplot at 0x7f8d88113dd0>"
      ]
     },
     "execution_count": 7,
     "metadata": {},
     "output_type": "execute_result"
    },
    {
     "data": {
      "image/png": "[encoded data removed]",
      "text/plain": [
       "<Figure size 432x288 with 1 Axes>"
      ]
     },
     "metadata": {
      "needs_background": "light"
     },
     "output_type": "display_data"
    }
   ],
   "source": [
    "por_cent_edad_dis_enf.plot.bar()"
   ]
  },
  {
   "cell_type": "markdown",
   "metadata": {},
   "source": [
    "Como se observa la distrubución es similar a la presentada en la conferencia de prensa del 31 de marzo de 2020, por lo que vamos a utilizar estos datos para hacer las aproximaciones de hospitalizaciones de la enfermedad. Usemos el dataframe de los enfermos totales por covid19."
   ]
  },
  {
   "cell_type": "markdown",
   "metadata": {},
   "source": [
    "A partir de los dato de la población pyoyectada por la *CONAPO* vamos a tomar la distribución por municipio https://datos.gob.mx/busca/dataset/proyecciones-de-la-poblacion-de-mexico-y-de-las-entidades-federativas-2016-2050"
   ]
  },
  {
   "cell_type": "markdown",
   "metadata": {},
   "source": [
    "Quedemos con la población para el año $2020$"
   ]
  },
  {
   "cell_type": "code",
   "execution_count": 8,
   "metadata": {},
   "outputs": [],
   "source": [
    "df_poblacion_20= covid_mun_cal.get_pob_dataframe('2020')"
   ]
  },
  {
   "cell_type": "markdown",
   "metadata": {},
   "source": [
    "Se desea es la distribución media por municipio que se obtiene de la tabla de proyecciones de los municipios "
   ]
  },
  {
   "cell_type": "code",
   "execution_count": 9,
   "metadata": {},
   "outputs": [
    {
     "data": {
      "text/html": [
       "<div>\n",
       "<style scoped>\n",
       "    .dataframe tbody tr th:only-of-type {\n",
       "        vertical-align: middle;\n",
       "    }\n",
       "\n",
       "    .dataframe tbody tr th {\n",
       "        vertical-align: top;\n",
       "    }\n",
       "\n",
       "    .dataframe thead th {\n",
       "        text-align: right;\n",
       "    }\n",
       "</style>\n",
       "<table border=\"1\" class=\"dataframe\">\n",
       "  <thead>\n",
       "    <tr style=\"text-align: right;\">\n",
       "      <th></th>\n",
       "      <th>CLAVE</th>\n",
       "      <th>CLAVE_ENT</th>\n",
       "      <th>NOM_ENT</th>\n",
       "      <th>MUN</th>\n",
       "      <th>SEXO</th>\n",
       "      <th>AÑO</th>\n",
       "      <th>EDAD_QUIN</th>\n",
       "      <th>POB</th>\n",
       "    </tr>\n",
       "  </thead>\n",
       "  <tbody>\n",
       "    <tr>\n",
       "      <th>5</th>\n",
       "      <td>01001</td>\n",
       "      <td>01</td>\n",
       "      <td>Aguascalientes</td>\n",
       "      <td>Aguascalientes</td>\n",
       "      <td>Mujeres</td>\n",
       "      <td>2020</td>\n",
       "      <td>pobm_00_04</td>\n",
       "      <td>37967</td>\n",
       "    </tr>\n",
       "    <tr>\n",
       "      <th>21</th>\n",
       "      <td>01002</td>\n",
       "      <td>01</td>\n",
       "      <td>Aguascalientes</td>\n",
       "      <td>Asientos</td>\n",
       "      <td>Mujeres</td>\n",
       "      <td>2020</td>\n",
       "      <td>pobm_00_04</td>\n",
       "      <td>2501</td>\n",
       "    </tr>\n",
       "    <tr>\n",
       "      <th>37</th>\n",
       "      <td>01003</td>\n",
       "      <td>01</td>\n",
       "      <td>Aguascalientes</td>\n",
       "      <td>Calvillo</td>\n",
       "      <td>Mujeres</td>\n",
       "      <td>2020</td>\n",
       "      <td>pobm_00_04</td>\n",
       "      <td>2715</td>\n",
       "    </tr>\n",
       "    <tr>\n",
       "      <th>53</th>\n",
       "      <td>01004</td>\n",
       "      <td>01</td>\n",
       "      <td>Aguascalientes</td>\n",
       "      <td>Cosío</td>\n",
       "      <td>Mujeres</td>\n",
       "      <td>2020</td>\n",
       "      <td>pobm_00_04</td>\n",
       "      <td>794</td>\n",
       "    </tr>\n",
       "    <tr>\n",
       "      <th>69</th>\n",
       "      <td>01005</td>\n",
       "      <td>01</td>\n",
       "      <td>Aguascalientes</td>\n",
       "      <td>Jesús María</td>\n",
       "      <td>Mujeres</td>\n",
       "      <td>2020</td>\n",
       "      <td>pobm_00_04</td>\n",
       "      <td>6344</td>\n",
       "    </tr>\n",
       "  </tbody>\n",
       "</table>\n",
       "</div>"
      ],
      "text/plain": [
       "    CLAVE CLAVE_ENT         NOM_ENT             MUN     SEXO   AÑO  \\\n",
       "5   01001        01  Aguascalientes  Aguascalientes  Mujeres  2020   \n",
       "21  01002        01  Aguascalientes        Asientos  Mujeres  2020   \n",
       "37  01003        01  Aguascalientes        Calvillo  Mujeres  2020   \n",
       "53  01004        01  Aguascalientes           Cosío  Mujeres  2020   \n",
       "69  01005        01  Aguascalientes     Jesús María  Mujeres  2020   \n",
       "\n",
       "     EDAD_QUIN    POB  \n",
       "5   pobm_00_04  37967  \n",
       "21  pobm_00_04   2501  \n",
       "37  pobm_00_04   2715  \n",
       "53  pobm_00_04    794  \n",
       "69  pobm_00_04   6344  "
      ]
     },
     "execution_count": 9,
     "metadata": {},
     "output_type": "execute_result"
    }
   ],
   "source": [
    "df_poblacion_20.head()"
   ]
  },
  {
   "cell_type": "code",
   "execution_count": 10,
   "metadata": {},
   "outputs": [],
   "source": [
    "res= covid_mun_cal.distro_all_mun(df_poblacion_20)"
   ]
  },
  {
   "cell_type": "code",
   "execution_count": 11,
   "metadata": {},
   "outputs": [
    {
     "data": {
      "text/html": [
       "<div>\n",
       "<style scoped>\n",
       "    .dataframe tbody tr th:only-of-type {\n",
       "        vertical-align: middle;\n",
       "    }\n",
       "\n",
       "    .dataframe tbody tr th {\n",
       "        vertical-align: top;\n",
       "    }\n",
       "\n",
       "    .dataframe thead th {\n",
       "        text-align: right;\n",
       "    }\n",
       "</style>\n",
       "<table border=\"1\" class=\"dataframe\">\n",
       "  <thead>\n",
       "    <tr style=\"text-align: right;\">\n",
       "      <th>EDAD_QUIN</th>\n",
       "      <th>pobm_00_04</th>\n",
       "      <th>pobm_05_09</th>\n",
       "      <th>pobm_10_14</th>\n",
       "      <th>pobm_15_19</th>\n",
       "      <th>pobm_20_24</th>\n",
       "      <th>pobm_25_29</th>\n",
       "      <th>pobm_30_34</th>\n",
       "      <th>pobm_35_39</th>\n",
       "      <th>pobm_40_44</th>\n",
       "      <th>pobm_45_49</th>\n",
       "      <th>pobm_50_54</th>\n",
       "      <th>pobm_55_59</th>\n",
       "      <th>pobm_60_64</th>\n",
       "      <th>pobm_65_mm</th>\n",
       "    </tr>\n",
       "    <tr>\n",
       "      <th>CLAVE</th>\n",
       "      <th></th>\n",
       "      <th></th>\n",
       "      <th></th>\n",
       "      <th></th>\n",
       "      <th></th>\n",
       "      <th></th>\n",
       "      <th></th>\n",
       "      <th></th>\n",
       "      <th></th>\n",
       "      <th></th>\n",
       "      <th></th>\n",
       "      <th></th>\n",
       "      <th></th>\n",
       "      <th></th>\n",
       "    </tr>\n",
       "  </thead>\n",
       "  <tbody>\n",
       "    <tr>\n",
       "      <th>01001</th>\n",
       "      <td>0.080440</td>\n",
       "      <td>0.084952</td>\n",
       "      <td>0.088373</td>\n",
       "      <td>0.091117</td>\n",
       "      <td>0.090854</td>\n",
       "      <td>0.087576</td>\n",
       "      <td>0.078293</td>\n",
       "      <td>0.069975</td>\n",
       "      <td>0.065588</td>\n",
       "      <td>0.062453</td>\n",
       "      <td>0.054667</td>\n",
       "      <td>0.045630</td>\n",
       "      <td>0.035449</td>\n",
       "      <td>0.064636</td>\n",
       "    </tr>\n",
       "    <tr>\n",
       "      <th>01002</th>\n",
       "      <td>0.098891</td>\n",
       "      <td>0.102725</td>\n",
       "      <td>0.103629</td>\n",
       "      <td>0.100641</td>\n",
       "      <td>0.093032</td>\n",
       "      <td>0.085070</td>\n",
       "      <td>0.073529</td>\n",
       "      <td>0.061930</td>\n",
       "      <td>0.054734</td>\n",
       "      <td>0.050035</td>\n",
       "      <td>0.041699</td>\n",
       "      <td>0.034071</td>\n",
       "      <td>0.028036</td>\n",
       "      <td>0.071976</td>\n",
       "    </tr>\n",
       "    <tr>\n",
       "      <th>01003</th>\n",
       "      <td>0.090619</td>\n",
       "      <td>0.093400</td>\n",
       "      <td>0.096313</td>\n",
       "      <td>0.094635</td>\n",
       "      <td>0.085402</td>\n",
       "      <td>0.077057</td>\n",
       "      <td>0.068960</td>\n",
       "      <td>0.060221</td>\n",
       "      <td>0.054263</td>\n",
       "      <td>0.052485</td>\n",
       "      <td>0.049029</td>\n",
       "      <td>0.044273</td>\n",
       "      <td>0.038825</td>\n",
       "      <td>0.094519</td>\n",
       "    </tr>\n",
       "    <tr>\n",
       "      <th>01004</th>\n",
       "      <td>0.094988</td>\n",
       "      <td>0.102494</td>\n",
       "      <td>0.104209</td>\n",
       "      <td>0.100366</td>\n",
       "      <td>0.089904</td>\n",
       "      <td>0.080388</td>\n",
       "      <td>0.071640</td>\n",
       "      <td>0.063483</td>\n",
       "      <td>0.057040</td>\n",
       "      <td>0.052311</td>\n",
       "      <td>0.044213</td>\n",
       "      <td>0.036884</td>\n",
       "      <td>0.030145</td>\n",
       "      <td>0.071935</td>\n",
       "    </tr>\n",
       "    <tr>\n",
       "      <th>01005</th>\n",
       "      <td>0.101226</td>\n",
       "      <td>0.105159</td>\n",
       "      <td>0.102716</td>\n",
       "      <td>0.096402</td>\n",
       "      <td>0.089888</td>\n",
       "      <td>0.088168</td>\n",
       "      <td>0.084811</td>\n",
       "      <td>0.076054</td>\n",
       "      <td>0.063679</td>\n",
       "      <td>0.051343</td>\n",
       "      <td>0.039329</td>\n",
       "      <td>0.031141</td>\n",
       "      <td>0.024657</td>\n",
       "      <td>0.045428</td>\n",
       "    </tr>\n",
       "    <tr>\n",
       "      <th>...</th>\n",
       "      <td>...</td>\n",
       "      <td>...</td>\n",
       "      <td>...</td>\n",
       "      <td>...</td>\n",
       "      <td>...</td>\n",
       "      <td>...</td>\n",
       "      <td>...</td>\n",
       "      <td>...</td>\n",
       "      <td>...</td>\n",
       "      <td>...</td>\n",
       "      <td>...</td>\n",
       "      <td>...</td>\n",
       "      <td>...</td>\n",
       "      <td>...</td>\n",
       "    </tr>\n",
       "    <tr>\n",
       "      <th>32054</th>\n",
       "      <td>0.102989</td>\n",
       "      <td>0.104723</td>\n",
       "      <td>0.104327</td>\n",
       "      <td>0.097586</td>\n",
       "      <td>0.084651</td>\n",
       "      <td>0.076424</td>\n",
       "      <td>0.071765</td>\n",
       "      <td>0.066115</td>\n",
       "      <td>0.057987</td>\n",
       "      <td>0.050751</td>\n",
       "      <td>0.043961</td>\n",
       "      <td>0.037815</td>\n",
       "      <td>0.030431</td>\n",
       "      <td>0.070476</td>\n",
       "    </tr>\n",
       "    <tr>\n",
       "      <th>32055</th>\n",
       "      <td>0.086090</td>\n",
       "      <td>0.088102</td>\n",
       "      <td>0.087882</td>\n",
       "      <td>0.082851</td>\n",
       "      <td>0.073827</td>\n",
       "      <td>0.069174</td>\n",
       "      <td>0.065306</td>\n",
       "      <td>0.060684</td>\n",
       "      <td>0.057194</td>\n",
       "      <td>0.056188</td>\n",
       "      <td>0.054270</td>\n",
       "      <td>0.051031</td>\n",
       "      <td>0.045277</td>\n",
       "      <td>0.122123</td>\n",
       "    </tr>\n",
       "    <tr>\n",
       "      <th>32056</th>\n",
       "      <td>0.081070</td>\n",
       "      <td>0.082806</td>\n",
       "      <td>0.080800</td>\n",
       "      <td>0.085011</td>\n",
       "      <td>0.090521</td>\n",
       "      <td>0.089287</td>\n",
       "      <td>0.079469</td>\n",
       "      <td>0.070377</td>\n",
       "      <td>0.065362</td>\n",
       "      <td>0.064109</td>\n",
       "      <td>0.059640</td>\n",
       "      <td>0.051577</td>\n",
       "      <td>0.038545</td>\n",
       "      <td>0.061427</td>\n",
       "    </tr>\n",
       "    <tr>\n",
       "      <th>32057</th>\n",
       "      <td>0.109786</td>\n",
       "      <td>0.110180</td>\n",
       "      <td>0.103722</td>\n",
       "      <td>0.096870</td>\n",
       "      <td>0.090362</td>\n",
       "      <td>0.084792</td>\n",
       "      <td>0.075228</td>\n",
       "      <td>0.065073</td>\n",
       "      <td>0.057284</td>\n",
       "      <td>0.051565</td>\n",
       "      <td>0.043875</td>\n",
       "      <td>0.034262</td>\n",
       "      <td>0.024550</td>\n",
       "      <td>0.052453</td>\n",
       "    </tr>\n",
       "    <tr>\n",
       "      <th>32058</th>\n",
       "      <td>0.090018</td>\n",
       "      <td>0.086865</td>\n",
       "      <td>0.083012</td>\n",
       "      <td>0.075657</td>\n",
       "      <td>0.069352</td>\n",
       "      <td>0.067601</td>\n",
       "      <td>0.063398</td>\n",
       "      <td>0.057093</td>\n",
       "      <td>0.056392</td>\n",
       "      <td>0.058844</td>\n",
       "      <td>0.055342</td>\n",
       "      <td>0.048687</td>\n",
       "      <td>0.045184</td>\n",
       "      <td>0.142557</td>\n",
       "    </tr>\n",
       "  </tbody>\n",
       "</table>\n",
       "<p>2457 rows × 14 columns</p>\n",
       "</div>"
      ],
      "text/plain": [
       "EDAD_QUIN  pobm_00_04  pobm_05_09  pobm_10_14  pobm_15_19  pobm_20_24  \\\n",
       "CLAVE                                                                   \n",
       "01001        0.080440    0.084952    0.088373    0.091117    0.090854   \n",
       "01002        0.098891    0.102725    0.103629    0.100641    0.093032   \n",
       "01003        0.090619    0.093400    0.096313    0.094635    0.085402   \n",
       "01004        0.094988    0.102494    0.104209    0.100366    0.089904   \n",
       "01005        0.101226    0.105159    0.102716    0.096402    0.089888   \n",
       "...               ...         ...         ...         ...         ...   \n",
       "32054        0.102989    0.104723    0.104327    0.097586    0.084651   \n",
       "32055        0.086090    0.088102    0.087882    0.082851    0.073827   \n",
       "32056        0.081070    0.082806    0.080800    0.085011    0.090521   \n",
       "32057        0.109786    0.110180    0.103722    0.096870    0.090362   \n",
       "32058        0.090018    0.086865    0.083012    0.075657    0.069352   \n",
       "\n",
       "EDAD_QUIN  pobm_25_29  pobm_30_34  pobm_35_39  pobm_40_44  pobm_45_49  \\\n",
       "CLAVE                                                                   \n",
       "01001        0.087576    0.078293    0.069975    0.065588    0.062453   \n",
       "01002        0.085070    0.073529    0.061930    0.054734    0.050035   \n",
       "01003        0.077057    0.068960    0.060221    0.054263    0.052485   \n",
       "01004        0.080388    0.071640    0.063483    0.057040    0.052311   \n",
       "01005        0.088168    0.084811    0.076054    0.063679    0.051343   \n",
       "...               ...         ...         ...         ...         ...   \n",
       "32054        0.076424    0.071765    0.066115    0.057987    0.050751   \n",
       "32055        0.069174    0.065306    0.060684    0.057194    0.056188   \n",
       "32056        0.089287    0.079469    0.070377    0.065362    0.064109   \n",
       "32057        0.084792    0.075228    0.065073    0.057284    0.051565   \n",
       "32058        0.067601    0.063398    0.057093    0.056392    0.058844   \n",
       "\n",
       "EDAD_QUIN  pobm_50_54  pobm_55_59  pobm_60_64  pobm_65_mm  \n",
       "CLAVE                                                      \n",
       "01001        0.054667    0.045630    0.035449    0.064636  \n",
       "01002        0.041699    0.034071    0.028036    0.071976  \n",
       "01003        0.049029    0.044273    0.038825    0.094519  \n",
       "01004        0.044213    0.036884    0.030145    0.071935  \n",
       "01005        0.039329    0.031141    0.024657    0.045428  \n",
       "...               ...         ...         ...         ...  \n",
       "32054        0.043961    0.037815    0.030431    0.070476  \n",
       "32055        0.054270    0.051031    0.045277    0.122123  \n",
       "32056        0.059640    0.051577    0.038545    0.061427  \n",
       "32057        0.043875    0.034262    0.024550    0.052453  \n",
       "32058        0.055342    0.048687    0.045184    0.142557  \n",
       "\n",
       "[2457 rows x 14 columns]"
      ]
     },
     "execution_count": 11,
     "metadata": {},
     "output_type": "execute_result"
    }
   ],
   "source": [
    "res"
   ]
  },
  {
   "cell_type": "code",
   "execution_count": 12,
   "metadata": {},
   "outputs": [],
   "source": [
    "dis_prom= res.mean()"
   ]
  },
  {
   "cell_type": "code",
   "execution_count": 13,
   "metadata": {},
   "outputs": [
    {
     "data": {
      "text/plain": [
       "EDAD_QUIN\n",
       "pobm_00_04    0.088885\n",
       "pobm_05_09    0.091933\n",
       "pobm_10_14    0.093468\n",
       "pobm_15_19    0.089093\n",
       "pobm_20_24    0.080108\n",
       "pobm_25_29    0.074802\n",
       "pobm_30_34    0.069285\n",
       "pobm_35_39    0.062947\n",
       "pobm_40_44    0.058457\n",
       "pobm_45_49    0.055757\n",
       "pobm_50_54    0.050269\n",
       "pobm_55_59    0.044724\n",
       "pobm_60_64    0.038906\n",
       "pobm_65_mm    0.101366\n",
       "dtype: float64"
      ]
     },
     "execution_count": 13,
     "metadata": {},
     "output_type": "execute_result"
    }
   ],
   "source": [
    "##### Es la distribución promedio \n",
    "dis_prom"
   ]
  },
  {
   "cell_type": "markdown",
   "metadata": {},
   "source": [
    "# Factores para la multiplicación con la distribución de los enfermos. "
   ]
  },
  {
   "cell_type": "markdown",
   "metadata": {},
   "source": [
    "Con esta distribución promedio obtenida de los municipio podemos calcular la distribución de enfermos por edad en cada municipio tomamdo un cierto factor y así calcular las camas que se utilizarán. Simplemente hay que multiplicar los elementos de la distribución por el total de la cantidad de enfermos. \n",
    "\n",
    "Tomemos el ejemplo, para los casos de *Tlalpan, Coyoacan y Alvaro Obregon* se toman como una sóla unidad para calcular el número de camas necesarias."
   ]
  },
  {
   "cell_type": "markdown",
   "metadata": {},
   "source": [
    "Se calculan los enfermos utilizando el modelos SIR (Se puede modificar para obtener mejores resultados) y las distribuciones correspondientes a cada municipio junto con los factores a multiplicar.  \n"
   ]
  },
  {
   "cell_type": "markdown",
   "metadata": {},
   "source": [
    "Se toman las poblaciones en cada uno de estos municipios "
   ]
  },
  {
   "cell_type": "code",
   "execution_count": 14,
   "metadata": {},
   "outputs": [],
   "source": [
    "tot_Coyo=df_poblacion_20[ df_poblacion_20['CLAVE'] =='09003']['POB'].sum()\n",
    "tot_AlvO=df_poblacion_20[ df_poblacion_20['CLAVE'] =='09010']['POB'].sum()\n",
    "tot_Tlal=df_poblacion_20[ df_poblacion_20['CLAVE'] =='09012']['POB'].sum()"
   ]
  },
  {
   "cell_type": "code",
   "execution_count": 15,
   "metadata": {},
   "outputs": [],
   "source": [
    "\n",
    "dis_enf_Coyo_2= covid_mun_cal.distri_enf_mun_df('09003', res,por_cent_edad_dis_enf, dis_prom)\n",
    "Cam_Coy= covid_mun_cal.Camas_mun_df(tot_Coyo, dis_enf_Coyo_2, porcen_rangos_hosp,  time=200)"
   ]
  },
  {
   "cell_type": "code",
   "execution_count": 16,
   "metadata": {},
   "outputs": [],
   "source": [
    "#Alvaro obregon\n",
    "dis_enf_AlvO= covid_mun_cal.distri_enf_mun_df('09010', res, por_cent_edad_dis_enf, dis_prom)\n",
    "Cam_AlvO=  covid_mun_cal.Camas_mun_df(tot_AlvO, dis_enf_AlvO,porcen_rangos_hosp, time=200)\n",
    "#Tlalpan\n",
    "dis_enf_Tlal=  covid_mun_cal.distri_enf_mun_df('09012',res,por_cent_edad_dis_enf, dis_prom)\n",
    "Cam_Tlal=  covid_mun_cal.Camas_mun_df(tot_Tlal, dis_enf_Tlal,porcen_rangos_hosp, time=200)\n"
   ]
  },
  {
   "cell_type": "code",
   "execution_count": 17,
   "metadata": {},
   "outputs": [],
   "source": [
    "Sum_total =  [sum(x) for x in zip(Cam_Coy['Tot'], Cam_AlvO['Tot'],Cam_Tlal['Tot'])]"
   ]
  },
  {
   "cell_type": "code",
   "execution_count": 18,
   "metadata": {},
   "outputs": [
    {
     "data": {
      "image/png": "[encoded data removed]",
      "text/plain": [
       "<Figure size 432x288 with 1 Axes>"
      ]
     },
     "metadata": {
      "needs_background": "light"
     },
     "output_type": "display_data"
    },
    {
     "data": {
      "image/png": "[encoded data removed]",
      "text/plain": [
       "<Figure size 432x288 with 1 Axes>"
      ]
     },
     "metadata": {
      "needs_background": "light"
     },
     "output_type": "display_data"
    }
   ],
   "source": [
    "%matplotlib inline\n",
    "camas_dem= covid_mun_cal.demanda_camas_ind(Sum_total, camas_hospital= 200, plot_s=True, rec_time=24)"
   ]
  },
  {
   "cell_type": "markdown",
   "metadata": {},
   "source": [
    "En la primera gráfica se observa la demanda de camas, mientras en la segunda la ocupación de las mismas. La función nos regresa la demanda en los distintos tiempos y la saturación normalizada con respecto al número de camas. "
   ]
  },
  {
   "cell_type": "code",
   "execution_count": null,
   "metadata": {},
   "outputs": [],
   "source": []
  }
 ],
 "metadata": {
  "kernelspec": {
   "display_name": "Python 3.7.6 64-bit",
   "language": "python",
   "name": "python37664bit2709983e4e1b42e0a652f562d7a6cbc0"
  },
  "language_info": {
   "codemirror_mode": {
    "name": "ipython",
    "version": 3
   },
   "file_extension": ".py",
   "mimetype": "text/x-python",
   "name": "python",
   "nbconvert_exporter": "python",
   "pygments_lexer": "ipython3",
   "version": "3.7.6"
  }
 },
 "nbformat": 4,
 "nbformat_minor": 4
}
